{
  "cells": [
    {
      "cell_type": "markdown",
      "metadata": {
        "id": "2KGPRxxJKfmn"
      },
      "source": [
        "# **How to use Llama 2**\n",
        "## _An open source large language model_\n",
        "\n",
        "By Chanin Nantasenamat\n",
        "\n",
        "_Data Professor_ YouTube channel, https://youtube.com/dataprofessor"
      ]
    },
    {
      "cell_type": "markdown",
      "metadata": {
        "id": "FIf3Q7QaK4gn"
      },
      "source": [
        "## **Install replicate**"
      ]
    },
    {
      "cell_type": "code",
      "execution_count": 131,
      "metadata": {
        "id": "cGwfwAsLJsSR"
      },
      "outputs": [
        {
          "name": "stdout",
          "output_type": "stream",
          "text": [
            "Requirement already satisfied: replicate in c:\\users\\tung3\\appdata\\local\\packages\\pythonsoftwarefoundation.python.3.10_qbz5n2kfra8p0\\localcache\\local-packages\\python310\\site-packages (0.15.4)\n",
            "Requirement already satisfied: packaging in c:\\users\\tung3\\appdata\\local\\packages\\pythonsoftwarefoundation.python.3.10_qbz5n2kfra8p0\\localcache\\local-packages\\python310\\site-packages (from replicate) (21.3)\n",
            "Requirement already satisfied: pydantic>1 in c:\\users\\tung3\\appdata\\local\\packages\\pythonsoftwarefoundation.python.3.10_qbz5n2kfra8p0\\localcache\\local-packages\\python310\\site-packages (from replicate) (2.4.2)\n",
            "Requirement already satisfied: httpx<1,>=0.21.0 in c:\\users\\tung3\\appdata\\local\\packages\\pythonsoftwarefoundation.python.3.10_qbz5n2kfra8p0\\localcache\\local-packages\\python310\\site-packages (from replicate) (0.25.0)\n",
            "Requirement already satisfied: certifi in c:\\users\\tung3\\appdata\\local\\packages\\pythonsoftwarefoundation.python.3.10_qbz5n2kfra8p0\\localcache\\local-packages\\python310\\site-packages (from httpx<1,>=0.21.0->replicate) (2022.12.7)\n",
            "Requirement already satisfied: httpcore<0.19.0,>=0.18.0 in c:\\users\\tung3\\appdata\\local\\packages\\pythonsoftwarefoundation.python.3.10_qbz5n2kfra8p0\\localcache\\local-packages\\python310\\site-packages (from httpx<1,>=0.21.0->replicate) (0.18.0)\n",
            "Requirement already satisfied: idna in c:\\users\\tung3\\appdata\\local\\packages\\pythonsoftwarefoundation.python.3.10_qbz5n2kfra8p0\\localcache\\local-packages\\python310\\site-packages (from httpx<1,>=0.21.0->replicate) (3.4)\n",
            "Requirement already satisfied: sniffio in c:\\users\\tung3\\appdata\\local\\packages\\pythonsoftwarefoundation.python.3.10_qbz5n2kfra8p0\\localcache\\local-packages\\python310\\site-packages (from httpx<1,>=0.21.0->replicate) (1.3.0)\n",
            "Requirement already satisfied: annotated-types>=0.4.0 in c:\\users\\tung3\\appdata\\local\\packages\\pythonsoftwarefoundation.python.3.10_qbz5n2kfra8p0\\localcache\\local-packages\\python310\\site-packages (from pydantic>1->replicate) (0.6.0)\n",
            "Requirement already satisfied: pydantic-core==2.10.1 in c:\\users\\tung3\\appdata\\local\\packages\\pythonsoftwarefoundation.python.3.10_qbz5n2kfra8p0\\localcache\\local-packages\\python310\\site-packages (from pydantic>1->replicate) (2.10.1)\n",
            "Requirement already satisfied: typing-extensions>=4.6.1 in c:\\users\\tung3\\appdata\\local\\packages\\pythonsoftwarefoundation.python.3.10_qbz5n2kfra8p0\\localcache\\local-packages\\python310\\site-packages (from pydantic>1->replicate) (4.8.0)\n",
            "Requirement already satisfied: pyparsing!=3.0.5,>=2.0.2 in c:\\users\\tung3\\appdata\\local\\packages\\pythonsoftwarefoundation.python.3.10_qbz5n2kfra8p0\\localcache\\local-packages\\python310\\site-packages (from packaging->replicate) (3.0.9)\n",
            "Requirement already satisfied: anyio<5.0,>=3.0 in c:\\users\\tung3\\appdata\\local\\packages\\pythonsoftwarefoundation.python.3.10_qbz5n2kfra8p0\\localcache\\local-packages\\python310\\site-packages (from httpcore<0.19.0,>=0.18.0->httpx<1,>=0.21.0->replicate) (4.0.0)\n",
            "Requirement already satisfied: h11<0.15,>=0.13 in c:\\users\\tung3\\appdata\\local\\packages\\pythonsoftwarefoundation.python.3.10_qbz5n2kfra8p0\\localcache\\local-packages\\python310\\site-packages (from httpcore<0.19.0,>=0.18.0->httpx<1,>=0.21.0->replicate) (0.14.0)\n",
            "Requirement already satisfied: exceptiongroup>=1.0.2 in c:\\users\\tung3\\appdata\\local\\packages\\pythonsoftwarefoundation.python.3.10_qbz5n2kfra8p0\\localcache\\local-packages\\python310\\site-packages (from anyio<5.0,>=3.0->httpcore<0.19.0,>=0.18.0->httpx<1,>=0.21.0->replicate) (1.1.3)\n"
          ]
        },
        {
          "name": "stderr",
          "output_type": "stream",
          "text": [
            "\n",
            "[notice] A new release of pip is available: 23.2.1 -> 23.3\n",
            "[notice] To update, run: C:\\Users\\tung3\\AppData\\Local\\Microsoft\\WindowsApps\\PythonSoftwareFoundation.Python.3.10_qbz5n2kfra8p0\\python.exe -m pip install --upgrade pip\n"
          ]
        }
      ],
      "source": [
        "! pip install replicate"
      ]
    },
    {
      "cell_type": "markdown",
      "metadata": {
        "id": "HqBzUTg9NMdh"
      },
      "source": [
        "## **Set Replicate API token**"
      ]
    },
    {
      "cell_type": "code",
      "execution_count": 132,
      "metadata": {
        "id": "_ga2m-1FNP7o"
      },
      "outputs": [],
      "source": [
        "import os\n",
        "\n",
        "os.environ[\"REPLICATE_API_TOKEN\"] = \"r8_epFqqMeO68LlPAcgR7MJaAoyVzqgPNc2X2GUg\""
      ]
    },
    {
      "cell_type": "markdown",
      "metadata": {
        "id": "901Hxea9K7ME"
      },
      "source": [
        "## **Run the Llama 2 model**"
      ]
    },
    {
      "cell_type": "code",
      "execution_count": 133,
      "metadata": {
        "id": "7Eyzd9DQRvh6"
      },
      "outputs": [],
      "source": [
        "import replicate\n",
        "\n",
        "pre_prompt = \"Given a furniture product description and a vibe or theme word, please rate it on a scale of 1-10 with 1 being the total opposite of the theme/vibe and 10 being a spot on match of the vibe/theme. Return just the number rating.\"\n",
        "# prompt_input = \"Vibe/Theme: Modern. Product description: Introducing a black couch that embodies sleek, timeless design with its clean lines and minimalist elegance. It's the epitome of contemporary style.\"\n",
        "# prompt_input = \"Vibe/Theme: Abstract. Product description: Behold an evocative painting that invites you to explore a world of vivid imagination and emotions, a canvas where each stroke weaves a compelling narrative, and every hue tells its own captivating story.\"\n",
        "# prompt_input = \"Vibe/Theme: Traditional. Product description: Introducing a black couch that embodies sleek, timeless design with its clean lines and minimalist elegance. It's the epitome of contemporary style.\"\n",
        "# prompt_input = \"Vibe/Theme: Edgy. Product description: Meet a lamp that dares to be different. With its unconventional design and modern flair, it's a standout addition to any space, bringing a touch of contemporary creativity to your environment.\"\n",
        "# prompt_input = \"Vibe/Theme: Classic. Product description: Introducing a timeless chair, traditional design with enduring quality. With graceful lines, rich materials, and impeccable craftsmanship.\"\n",
        "prompt_input = \"Vibe/Theme: Classic. Product description: Meet a lamp that dares to be different. With its unconventional design and modern flair, bringing a touch of contemporary creativity to your environment.\"\n",
        "\n",
        "\n",
        "# Generate LLM response\n",
        "output = replicate.run('a16z-infra/llama13b-v2-chat:df7690f1994d94e96ad9d568eac121aecf50684a0b0963b25a41cc40061269e5', # LLM model\n",
        "                        input={\"prompt\": f\"{pre_prompt} {prompt_input}\", # Prompts\n",
        "                        \"temperature\":0.1, \"top_p\":0.9, \"max_length\":128, \"repetition_penalty\":1})  # Model parameters"
      ]
    },
    {
      "cell_type": "markdown",
      "metadata": {
        "id": "YrSrbZ97OU3W"
      },
      "source": [
        "## **Displaying the LLM generated response**"
      ]
    },
    {
      "cell_type": "code",
      "execution_count": 134,
      "metadata": {
        "colab": {
          "base_uri": "https://localhost:8080/"
        },
        "id": "ZDH_FJJCKHRo",
        "outputId": "cbf47b42-9225-4368-8f91-a64606575b38"
      },
      "outputs": [
        {
          "data": {
            "text/plain": [
              "<generator object Prediction.output_iterator at 0x00000206ECB444A0>"
            ]
          },
          "execution_count": 134,
          "metadata": {},
          "output_type": "execute_result"
        }
      ],
      "source": [
        "output"
      ]
    },
    {
      "cell_type": "code",
      "execution_count": 135,
      "metadata": {
        "colab": {
          "base_uri": "https://localhost:8080/"
        },
        "id": "rwNZxpzFNnnM",
        "outputId": "959f878b-757a-4341-ee4b-30318be5871b"
      },
      "outputs": [
        {
          "name": "stdout",
          "output_type": "stream",
          "text": [
            "Answer: 6. The product description highlights the lamp's modern and creative design,\n"
          ]
        }
      ],
      "source": [
        "full_response = \"\"\n",
        "\n",
        "for item in output:\n",
        "  full_response += item\n",
        "\n",
        "print(full_response)"
      ]
    }
  ],
  "metadata": {
    "colab": {
      "provenance": []
    },
    "kernelspec": {
      "display_name": "Python 3",
      "name": "python3"
    },
    "language_info": {
      "codemirror_mode": {
        "name": "ipython",
        "version": 3
      },
      "file_extension": ".py",
      "mimetype": "text/x-python",
      "name": "python",
      "nbconvert_exporter": "python",
      "pygments_lexer": "ipython3",
      "version": "3.10.11"
    }
  },
  "nbformat": 4,
  "nbformat_minor": 0
}
